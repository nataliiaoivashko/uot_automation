{
 "cells": [
  {
   "cell_type": "code",
   "execution_count": 5,
   "metadata": {},
   "outputs": [
    {
     "name": "stdout",
     "output_type": "stream",
     "text": [
      "[1, 2, 3, 4, 3]\n",
      "CPU times: total: 0 ns\n",
      "Wall time: 0 ns\n"
     ]
    },
    {
     "data": {
      "text/plain": [
       "2"
      ]
     },
     "execution_count": 5,
     "metadata": {},
     "output_type": "execute_result"
    }
   ],
   "source": [
    "list1 = [1,2,3,4]\n",
    "tuple1 = (5,6,7,8,9)\n",
    "set1 = {4,5,6,7,82}\n",
    "\n",
    "list1.append(3)\n",
    "print(list1)\n",
    "tuple1.count(6)\n",
    "\n",
    "%time\n",
    "list1.index(3)"
   ]
  },
  {
   "cell_type": "code",
   "execution_count": 6,
   "metadata": {},
   "outputs": [],
   "source": [
    "list2 = [2,5,5,5,6,7,8,8,8,8,8]\n",
    "set2 = set(list2)\n"
   ]
  },
  {
   "cell_type": "code",
   "execution_count": 7,
   "metadata": {},
   "outputs": [
    {
     "name": "stdout",
     "output_type": "stream",
     "text": [
      "{2, 5, 6, 7, 8}\n"
     ]
    }
   ],
   "source": [
    "print(set2)"
   ]
  },
  {
   "cell_type": "code",
   "execution_count": 8,
   "metadata": {},
   "outputs": [
    {
     "name": "stdout",
     "output_type": "stream",
     "text": [
      "{2, 5, 6, 7, 8, 51}\n"
     ]
    }
   ],
   "source": [
    "list2 = list(set(list2))\n",
    "set2.add(51)\n",
    "print(set2)"
   ]
  },
  {
   "cell_type": "code",
   "execution_count": 9,
   "metadata": {},
   "outputs": [
    {
     "data": {
      "text/plain": [
       "{1, 3, 4}"
      ]
     },
     "execution_count": 9,
     "metadata": {},
     "output_type": "execute_result"
    }
   ],
   "source": [
    "set1 = {1,2,3,4,5,5,2,1,3,7,8,}\n",
    "set1.difference(set2)       # shows what's in set 1, not in set 2"
   ]
  },
  {
   "cell_type": "code",
   "execution_count": 10,
   "metadata": {},
   "outputs": [
    {
     "data": {
      "text/plain": [
       "{6, 51}"
      ]
     },
     "execution_count": 10,
     "metadata": {},
     "output_type": "execute_result"
    }
   ],
   "source": [
    "set2.difference(set1)"
   ]
  },
  {
   "cell_type": "code",
   "execution_count": 11,
   "metadata": {},
   "outputs": [
    {
     "data": {
      "text/plain": [
       "{2, 5, 7, 8}"
      ]
     },
     "execution_count": 11,
     "metadata": {},
     "output_type": "execute_result"
    }
   ],
   "source": [
    "set1. intersection(set2)\n"
   ]
  },
  {
   "cell_type": "code",
   "execution_count": 12,
   "metadata": {},
   "outputs": [],
   "source": [
    "set1.difference_update(set2)"
   ]
  },
  {
   "cell_type": "code",
   "execution_count": 13,
   "metadata": {},
   "outputs": [
    {
     "data": {
      "text/plain": [
       "{1, 3, 4}"
      ]
     },
     "execution_count": 13,
     "metadata": {},
     "output_type": "execute_result"
    }
   ],
   "source": [
    "set1"
   ]
  },
  {
   "cell_type": "code",
   "execution_count": 23,
   "metadata": {},
   "outputs": [
    {
     "name": "stdout",
     "output_type": "stream",
     "text": [
      "{9}\n"
     ]
    }
   ],
   "source": [
    "set11 = {1,2,3,4,9}\n",
    "set22 = {8,1,2,3,4}\n",
    "set11.difference(set22) # what exists in set 11 and does not in set 22\n",
    "set22.difference(set11)  # what exists in set 22 and does not in set11\n",
    "set11.intersection(set22)\n",
    "set33 = {1,2}\n",
    "set33.issubset(set11)\n",
    "set33.issuperset(set22)  # is set 33 like a part of set 22?\n",
    "set22.issuperset(set33)   # is set 22 a parent to set 33?\n",
    "set11.difference_update(set22)  #to double check how and where to use this \n",
    "print(set11)"
   ]
  },
  {
   "cell_type": "code",
   "execution_count": 24,
   "metadata": {},
   "outputs": [
    {
     "name": "stdout",
     "output_type": "stream",
     "text": [
      "{9}\n"
     ]
    }
   ],
   "source": [
    "print(set11)"
   ]
  },
  {
   "cell_type": "code",
   "execution_count": 25,
   "metadata": {},
   "outputs": [
    {
     "name": "stdout",
     "output_type": "stream",
     "text": [
      "{1, 2, 3, 4, 8}\n"
     ]
    }
   ],
   "source": [
    "print(set22)"
   ]
  },
  {
   "cell_type": "code",
   "execution_count": 26,
   "metadata": {},
   "outputs": [
    {
     "data": {
      "text/plain": [
       "'book'"
      ]
     },
     "execution_count": 26,
     "metadata": {},
     "output_type": "execute_result"
    }
   ],
   "source": [
    "dictionary1 = {'Delina':\n",
    "               {'cust_type':'hvl',\n",
    "                'latest_order':['book','shoes','rake']}, \n",
    "                'Mike':\n",
    "                 {'cust_type':'hvl',\n",
    "                 'latest_order':['shoes','book']}}\n",
    "\n",
    "dictionary2 = {'Delina':'book', 'mike':'shoes'}\n",
    "dictionary2['Delina']"
   ]
  },
  {
   "cell_type": "code",
   "execution_count": 27,
   "metadata": {},
   "outputs": [
    {
     "data": {
      "text/plain": [
       "dict_keys(['Delina', 'mike'])"
      ]
     },
     "execution_count": 27,
     "metadata": {},
     "output_type": "execute_result"
    }
   ],
   "source": [
    "dictionary2.keys()\n"
   ]
  },
  {
   "cell_type": "code",
   "execution_count": 28,
   "metadata": {},
   "outputs": [
    {
     "data": {
      "text/plain": [
       "dict_values(['book', 'shoes'])"
      ]
     },
     "execution_count": 28,
     "metadata": {},
     "output_type": "execute_result"
    }
   ],
   "source": [
    "dictionary2.values()"
   ]
  },
  {
   "cell_type": "code",
   "execution_count": 29,
   "metadata": {},
   "outputs": [
    {
     "data": {
      "text/plain": [
       "{'Delina': 'book', 'mike': 'shoes', 'Sam': 'book'}"
      ]
     },
     "execution_count": 29,
     "metadata": {},
     "output_type": "execute_result"
    }
   ],
   "source": [
    "dictionary2.update({'Sam':'book'})\n",
    "dictionary2"
   ]
  },
  {
   "cell_type": "code",
   "execution_count": 30,
   "metadata": {},
   "outputs": [],
   "source": [
    "dictionary2['Sarah'] = 'shoes'\n"
   ]
  },
  {
   "cell_type": "code",
   "execution_count": 31,
   "metadata": {},
   "outputs": [
    {
     "data": {
      "text/plain": [
       "{'Delina': 'book', 'mike': 'shoes', 'Sam': 'book', 'Sarah': 'shoes'}"
      ]
     },
     "execution_count": 31,
     "metadata": {},
     "output_type": "execute_result"
    }
   ],
   "source": [
    "dictionary2"
   ]
  },
  {
   "cell_type": "code",
   "execution_count": 34,
   "metadata": {},
   "outputs": [
    {
     "data": {
      "text/plain": [
       "[4, 8, 16, 32, 64]"
      ]
     },
     "execution_count": 34,
     "metadata": {},
     "output_type": "execute_result"
    }
   ],
   "source": [
    "# for loops\n",
    "list1[0] = list1[0]*2\n",
    "list1[1] = list1[1]*2\n",
    "list1[2] = list1[1]*2\n",
    "list1[3] = list1[2]*2\n",
    "list1[4] = list1[3]*2\n",
    "list1"
   ]
  },
  {
   "cell_type": "code",
   "execution_count": 36,
   "metadata": {},
   "outputs": [
    {
     "name": "stdout",
     "output_type": "stream",
     "text": [
      "8\n",
      "[4, 8, 16, 32, 64]\n",
      "16\n",
      "[4, 8, 16, 32, 64]\n",
      "32\n",
      "[4, 8, 16, 32, 64]\n",
      "64\n",
      "[4, 8, 16, 32, 64]\n",
      "128\n",
      "[4, 8, 16, 32, 64]\n"
     ]
    }
   ],
   "source": [
    "for each_element in list1:\n",
    "    print(each_element*2)\n",
    "    print(list1)"
   ]
  },
  {
   "cell_type": "code",
   "execution_count": 37,
   "metadata": {},
   "outputs": [
    {
     "name": "stdout",
     "output_type": "stream",
     "text": [
      "1\n",
      "2\n",
      "3\n",
      "4\n"
     ]
    }
   ],
   "source": [
    "# write a loop to return te value without the reminder, when you divide each value in the list by 3\n",
    "\n",
    "list111 = [3,6,9,12]\n",
    "for i in list111:\n",
    "    print(i//3)\n",
    "    "
   ]
  },
  {
   "cell_type": "code",
   "execution_count": 38,
   "metadata": {},
   "outputs": [
    {
     "name": "stdout",
     "output_type": "stream",
     "text": [
      "[2]\n",
      "[2, 2]\n",
      "[2, 2, 2]\n",
      "[2, 2, 2, 2]\n",
      "[2, 2, 2, 2, 2]\n"
     ]
    }
   ],
   "source": [
    "list_1n = []\n",
    "for i in list1:\n",
    " list_1n.append(1*2)\n",
    "print(list_1n)"
   ]
  },
  {
   "cell_type": "code",
   "execution_count": 41,
   "metadata": {},
   "outputs": [
    {
     "data": {
      "text/plain": [
       "0"
      ]
     },
     "execution_count": 41,
     "metadata": {},
     "output_type": "execute_result"
    }
   ],
   "source": [
    "list_1n.index(2)"
   ]
  },
  {
   "cell_type": "code",
   "execution_count": 42,
   "metadata": {},
   "outputs": [
    {
     "data": {
      "text/plain": [
       "2"
      ]
     },
     "execution_count": 42,
     "metadata": {},
     "output_type": "execute_result"
    }
   ],
   "source": [
    "list_1n[0]\n"
   ]
  },
  {
   "cell_type": "code",
   "execution_count": 44,
   "metadata": {},
   "outputs": [
    {
     "data": {
      "text/plain": [
       "2"
      ]
     },
     "execution_count": 44,
     "metadata": {},
     "output_type": "execute_result"
    }
   ],
   "source": [
    "list_1n[list_1n.index(2)]"
   ]
  },
  {
   "cell_type": "code",
   "execution_count": 46,
   "metadata": {},
   "outputs": [],
   "source": [
    "\n",
    "for i in list1:\n",
    "   list1[list1.index(i)] = i*2"
   ]
  },
  {
   "cell_type": "code",
   "execution_count": 47,
   "metadata": {},
   "outputs": [
    {
     "data": {
      "text/plain": [
       "[128, 8, 16, 32, 64]"
      ]
     },
     "execution_count": 47,
     "metadata": {},
     "output_type": "execute_result"
    }
   ],
   "source": [
    "list1"
   ]
  },
  {
   "cell_type": "code",
   "execution_count": 49,
   "metadata": {},
   "outputs": [
    {
     "name": "stdout",
     "output_type": "stream",
     "text": [
      "16\n",
      "currently A is equal to:  16\n",
      "8\n",
      "currently A is equal to:  8\n",
      "24\n",
      "currently A is equal to:  24\n",
      "448\n",
      "currently A is equal to:  448\n"
     ]
    }
   ],
   "source": [
    "list1 = [8,4,12,224]\n",
    "for i in list1:\n",
    "    a = i*2\n",
    "    print(a)\n",
    "    print(\"currently A is equal to: \", a)\n"
   ]
  },
  {
   "cell_type": "code",
   "execution_count": 7,
   "metadata": {},
   "outputs": [
    {
     "data": {
      "text/plain": [
       "{'Delina': 'book', 'mike': 'shoes'}"
      ]
     },
     "execution_count": 7,
     "metadata": {},
     "output_type": "execute_result"
    }
   ],
   "source": [
    "dictionary2 = {'Delina':'book', 'mike':'shoes'}\n",
    "dictionary2"
   ]
  },
  {
   "cell_type": "code",
   "execution_count": 51,
   "metadata": {},
   "outputs": [
    {
     "name": "stdout",
     "output_type": "stream",
     "text": [
      "10\n",
      "12\n",
      "14\n",
      "16\n",
      "18\n"
     ]
    }
   ],
   "source": [
    "for i in tuple1:\n",
    "    print(i*2)"
   ]
  },
  {
   "cell_type": "code",
   "execution_count": 52,
   "metadata": {},
   "outputs": [
    {
     "name": "stdout",
     "output_type": "stream",
     "text": [
      "2\n",
      "6\n",
      "8\n"
     ]
    }
   ],
   "source": [
    "for i in set1:\n",
    "    print(i*2)"
   ]
  },
  {
   "cell_type": "code",
   "execution_count": 53,
   "metadata": {},
   "outputs": [
    {
     "name": "stdout",
     "output_type": "stream",
     "text": [
      "Delina\n",
      "mike\n",
      "Sam\n",
      "Sarah\n"
     ]
    }
   ],
   "source": [
    "for i in dictionary2:\n",
    "    print(i)"
   ]
  },
  {
   "cell_type": "code",
   "execution_count": 54,
   "metadata": {},
   "outputs": [
    {
     "name": "stdout",
     "output_type": "stream",
     "text": [
      "Delina\n",
      "mike\n",
      "Sam\n",
      "Sarah\n"
     ]
    }
   ],
   "source": [
    "for i in dictionary2.keys():\n",
    "    print(i)"
   ]
  },
  {
   "cell_type": "code",
   "execution_count": 55,
   "metadata": {},
   "outputs": [
    {
     "name": "stdout",
     "output_type": "stream",
     "text": [
      "book\n",
      "shoes\n",
      "book\n",
      "shoes\n"
     ]
    }
   ],
   "source": [
    "for i in dictionary2.values():\n",
    "    print(i)"
   ]
  },
  {
   "cell_type": "code",
   "execution_count": 8,
   "metadata": {},
   "outputs": [
    {
     "data": {
      "text/plain": [
       "dict_items([('Delina', 'book'), ('mike', 'shoes')])"
      ]
     },
     "execution_count": 8,
     "metadata": {},
     "output_type": "execute_result"
    }
   ],
   "source": [
    "dictionary2.items()"
   ]
  },
  {
   "cell_type": "code",
   "execution_count": 57,
   "metadata": {},
   "outputs": [
    {
     "name": "stdout",
     "output_type": "stream",
     "text": [
      "('Delina', 'book')\n",
      "('mike', 'shoes')\n",
      "('Sam', 'book')\n",
      "('Sarah', 'shoes')\n"
     ]
    }
   ],
   "source": [
    "for i in dictionary2.items():\n",
    "    print(i)"
   ]
  },
  {
   "cell_type": "code",
   "execution_count": 58,
   "metadata": {},
   "outputs": [],
   "source": [
    "a = (1,2)"
   ]
  },
  {
   "cell_type": "code",
   "execution_count": 59,
   "metadata": {},
   "outputs": [
    {
     "data": {
      "text/plain": [
       "1"
      ]
     },
     "execution_count": 59,
     "metadata": {},
     "output_type": "execute_result"
    }
   ],
   "source": [
    "a, b = (1,2)\n",
    "a"
   ]
  },
  {
   "cell_type": "code",
   "execution_count": 60,
   "metadata": {},
   "outputs": [
    {
     "data": {
      "text/plain": [
       "2"
      ]
     },
     "execution_count": 60,
     "metadata": {},
     "output_type": "execute_result"
    }
   ],
   "source": [
    "b"
   ]
  },
  {
   "cell_type": "code",
   "execution_count": 61,
   "metadata": {},
   "outputs": [
    {
     "data": {
      "text/plain": [
       "(1, 2)"
      ]
     },
     "execution_count": 61,
     "metadata": {},
     "output_type": "execute_result"
    }
   ],
   "source": [
    "a,b"
   ]
  },
  {
   "cell_type": "code",
   "execution_count": 62,
   "metadata": {},
   "outputs": [
    {
     "name": "stdout",
     "output_type": "stream",
     "text": [
      "Delina\n",
      "book\n",
      "mike\n",
      "shoes\n",
      "Sam\n",
      "book\n",
      "Sarah\n",
      "shoes\n"
     ]
    }
   ],
   "source": [
    "for a,b in dictionary2.items():\n",
    "    print(a)\n",
    "    print(b)\n",
    "    "
   ]
  },
  {
   "cell_type": "code",
   "execution_count": 10,
   "metadata": {},
   "outputs": [
    {
     "name": "stdout",
     "output_type": "stream",
     "text": [
      "{'Delina': 'book', 'mike': 'shoes'}\n",
      "1\n",
      "we need to ship  1 books\n",
      "['Delina', 'mike']\n",
      "['book', 'shoes']\n"
     ]
    }
   ],
   "source": [
    "# create 2 lists, one for customers and one for items, and store elements from dictionary 2, in the respective \n",
    "# cusotmer = ['Delina', 'mike', 'sam']\n",
    "# items = [\"book\", 'shoes', 'book]\n",
    "\n",
    "print(dictionary2)\n",
    "# first loop to isolate all customers, and all items\n",
    "customers = []\n",
    "ilstitems = []\n",
    "for a,b in dictionary2.items():\n",
    "    customers.append(a)\n",
    "    ilstitems.append(b)\n",
    "\n",
    "# how many books do we need to ship?\n",
    "print(ilstitems.count('book'))\n",
    "print('we need to ship ',ilstitems.count('book'), 'books')\n",
    "\n",
    "print(customers)\n",
    "print(ilstitems)\n"
   ]
  },
  {
   "cell_type": "code",
   "execution_count": 13,
   "metadata": {},
   "outputs": [
    {
     "ename": "NameError",
     "evalue": "name 'dictionary1' is not defined",
     "output_type": "error",
     "traceback": [
      "\u001b[1;31m---------------------------------------------------------------------------\u001b[0m",
      "\u001b[1;31mNameError\u001b[0m                                 Traceback (most recent call last)",
      "Cell \u001b[1;32mIn[13], line 1\u001b[0m\n\u001b[1;32m----> 1\u001b[0m dictionary1\n",
      "\u001b[1;31mNameError\u001b[0m: name 'dictionary1' is not defined"
     ]
    }
   ],
   "source": [
    "dictionary1"
   ]
  },
  {
   "cell_type": "code",
   "execution_count": 71,
   "metadata": {},
   "outputs": [
    {
     "name": "stdout",
     "output_type": "stream",
     "text": [
      "Delina\n",
      "{'cust_type': 'hvl', 'latest_order': ['book', 'shoes', 'rake']}\n",
      "Mike\n",
      "{'cust_type': 'hvl', 'latest_order': ['shoes', 'book']}\n"
     ]
    }
   ],
   "source": [
    "for a,b in dictionary1.items():\n",
    "    print(a)\n",
    "    print(b)"
   ]
  },
  {
   "cell_type": "code",
   "execution_count": 14,
   "metadata": {},
   "outputs": [
    {
     "name": "stdout",
     "output_type": "stream",
     "text": [
      "['book', 'shoes']\n"
     ]
    }
   ],
   "source": [
    "\n",
    "\n",
    "for key, value in dictionary2.items():\n",
    "    myown_values = list(dictionary2.values())\n",
    "print(myown_values)"
   ]
  },
  {
   "cell_type": "code",
   "execution_count": 72,
   "metadata": {},
   "outputs": [
    {
     "name": "stdout",
     "output_type": "stream",
     "text": [
      "book:  2\n",
      "rake:  1\n",
      "shoes:  2\n",
      "['Delina', 'Mike']\n"
     ]
    }
   ],
   "source": [
    "# create a new customer and items_to_ship list, based on dictionary1\n",
    "customers_2 = []\n",
    "items_to_ship = []\n",
    "\n",
    "for a,b in dictionary1.items():\n",
    "    customers_2.append(a)\n",
    "    for c,d in b.items():\n",
    "        if type(d) == list:\n",
    "            for i in d:\n",
    "                items_to_ship.append(i)\n",
    "for i in set(items_to_ship):\n",
    "    print(i + \": \", items_to_ship.count(i))\n",
    "print(customers_2)\n"
   ]
  },
  {
   "cell_type": "code",
   "execution_count": 73,
   "metadata": {},
   "outputs": [
    {
     "name": "stdout",
     "output_type": "stream",
     "text": [
      "x if greater than 3\n"
     ]
    }
   ],
   "source": [
    "# conditonal programming\n",
    "x = 5\n",
    "if x > 3:\n",
    "    print(\"x if greater than 3\")\n",
    "elif x == 5:\n",
    "    print(\"x is equal to 5\")   # will check in order\n",
    "elif x <4:\n",
    "    print(\"x is less than 4\")\n",
    "else:\n",
    "    print(\"x is not greater than 3\")\n"
   ]
  },
  {
   "cell_type": "code",
   "execution_count": 74,
   "metadata": {},
   "outputs": [
    {
     "name": "stdout",
     "output_type": "stream",
     "text": [
      "x if greater than 3\n",
      "x is equal to 5\n",
      "x is not greater than 3\n"
     ]
    }
   ],
   "source": [
    "# conditonal programming\n",
    "x = 5\n",
    "if x > 3:\n",
    "    print(\"x if greater than 3\")\n",
    "if x == 5:\n",
    "    print(\"x is equal to 5\")   # will check all at once\n",
    "if x <4:\n",
    "    print(\"x is less than 4\")\n",
    "else:\n",
    "    print(\"x is not greater than 3\")"
   ]
  },
  {
   "cell_type": "code",
   "execution_count": 75,
   "metadata": {},
   "outputs": [
    {
     "name": "stdout",
     "output_type": "stream",
     "text": [
      "[8, 4, 12, 224]\n"
     ]
    }
   ],
   "source": [
    "print(list1)"
   ]
  },
  {
   "cell_type": "code",
   "execution_count": 77,
   "metadata": {},
   "outputs": [
    {
     "name": "stdout",
     "output_type": "stream",
     "text": [
      "8  is divisible by 2\n",
      "4  is divisible by 2\n",
      "12  is divisible by 3\n",
      "224  is divisible by 2\n"
     ]
    }
   ],
   "source": [
    "list1\n",
    "\n",
    "for i in list1:\n",
    "    if i%3 == 0:\n",
    "        print(i, \" is divisible by 3\")\n",
    "    elif i%2 ==0:\n",
    "        print(i, \" is divisible by 2\")\n",
    "    else:\n",
    "        print(i, \" is not divisible by 3\")\n"
   ]
  },
  {
   "cell_type": "code",
   "execution_count": 79,
   "metadata": {},
   "outputs": [
    {
     "name": "stdout",
     "output_type": "stream",
     "text": [
      "2  is divisible by 2\n",
      "4  is divisible by 2\n",
      "6  is divisible by 2 and 3\n",
      "9  is divisible by 3\n",
      "15  is divisible by 3\n",
      "47  is not divisible by 2 or 3\n",
      "51  is divisible by 3\n"
     ]
    }
   ],
   "source": [
    "list3 = [2,4,6,9,15,47,51]\n",
    "\n",
    "for i in list3:\n",
    "    if i%3 == 0 and i%2 ==0:\n",
    "        print(i, \" is divisible by 2 and 3\")\n",
    "    elif i%2 ==0:\n",
    "        print(i, \" is divisible by 2\")\n",
    "    elif i%3 ==0:\n",
    "        print(i, \" is divisible by 3\")\n",
    "    else:\n",
    "        print(i, \" is not divisible by 2 or 3\")\n",
    "    "
   ]
  },
  {
   "cell_type": "code",
   "execution_count": 80,
   "metadata": {},
   "outputs": [
    {
     "data": {
      "text/plain": [
       "224"
      ]
     },
     "execution_count": 80,
     "metadata": {},
     "output_type": "execute_result"
    }
   ],
   "source": [
    "# calculate the average of the list\n",
    "\n",
    "max(list1)\n"
   ]
  },
  {
   "cell_type": "code",
   "execution_count": 81,
   "metadata": {},
   "outputs": [
    {
     "data": {
      "text/plain": [
       "4"
      ]
     },
     "execution_count": 81,
     "metadata": {},
     "output_type": "execute_result"
    }
   ],
   "source": [
    "min(list1)"
   ]
  },
  {
   "cell_type": "code",
   "execution_count": 82,
   "metadata": {},
   "outputs": [
    {
     "name": "stdout",
     "output_type": "stream",
     "text": [
      "62.0\n"
     ]
    }
   ],
   "source": [
    "list_sum = sum(list1)\n",
    "list_length = len(list1)\n",
    "mean = list_sum / list_length\n",
    "print(mean)"
   ]
  },
  {
   "cell_type": "code",
   "execution_count": 83,
   "metadata": {},
   "outputs": [],
   "source": [
    "def mean(x):\n",
    "    sum_of_x = sum(x)                   # these are the local variables, they exists inside the function\n",
    "    length_of_x = len(x)\n",
    "    return sum_of_x / length_of_x\n"
   ]
  },
  {
   "cell_type": "code",
   "execution_count": 84,
   "metadata": {},
   "outputs": [
    {
     "data": {
      "text/plain": [
       "62.0"
      ]
     },
     "execution_count": 84,
     "metadata": {},
     "output_type": "execute_result"
    }
   ],
   "source": [
    "mean(list1)"
   ]
  },
  {
   "cell_type": "code",
   "execution_count": 85,
   "metadata": {},
   "outputs": [
    {
     "data": {
      "text/plain": [
       "7.0"
      ]
     },
     "execution_count": 85,
     "metadata": {},
     "output_type": "execute_result"
    }
   ],
   "source": [
    "mean(tuple1)"
   ]
  },
  {
   "cell_type": "code",
   "execution_count": 86,
   "metadata": {},
   "outputs": [
    {
     "data": {
      "text/plain": [
       "2.6666666666666665"
      ]
     },
     "execution_count": 86,
     "metadata": {},
     "output_type": "execute_result"
    }
   ],
   "source": [
    "mean(set1)\n"
   ]
  },
  {
   "cell_type": "code",
   "execution_count": 87,
   "metadata": {},
   "outputs": [
    {
     "data": {
      "text/plain": [
       "248"
      ]
     },
     "execution_count": 87,
     "metadata": {},
     "output_type": "execute_result"
    }
   ],
   "source": [
    "list_sum #global var"
   ]
  },
  {
   "cell_type": "code",
   "execution_count": 89,
   "metadata": {},
   "outputs": [
    {
     "data": {
      "text/plain": [
       "13.166666666666666"
      ]
     },
     "execution_count": 89,
     "metadata": {},
     "output_type": "execute_result"
    }
   ],
   "source": [
    "mean(set2)"
   ]
  },
  {
   "cell_type": "code",
   "execution_count": 90,
   "metadata": {},
   "outputs": [
    {
     "data": {
      "text/plain": [
       "{'Delina': {'cust_type': 'hvl', 'latest_order': ['book', 'shoes', 'rake']},\n",
       " 'Mike': {'cust_type': 'hvl', 'latest_order': ['shoes', 'book']}}"
      ]
     },
     "execution_count": 90,
     "metadata": {},
     "output_type": "execute_result"
    }
   ],
   "source": [
    "dictionary1"
   ]
  },
  {
   "cell_type": "code",
   "execution_count": 91,
   "metadata": {},
   "outputs": [
    {
     "data": {
      "text/plain": [
       "{'Delina': 'book', 'mike': 'shoes', 'Sam': 'book', 'Sarah': 'shoes'}"
      ]
     },
     "execution_count": 91,
     "metadata": {},
     "output_type": "execute_result"
    }
   ],
   "source": [
    "dictionary2"
   ]
  },
  {
   "cell_type": "code",
   "execution_count": 1,
   "metadata": {},
   "outputs": [],
   "source": [
    "dictionary3 = {'Sarah': ['book','shoes'],'John': ['book','shoes', 'rake']}"
   ]
  },
  {
   "cell_type": "code",
   "execution_count": 2,
   "metadata": {},
   "outputs": [
    {
     "name": "stdout",
     "output_type": "stream",
     "text": [
      "{'Sarah': ['book', 'shoes'], 'John': ['book', 'shoes', 'rake']}\n"
     ]
    }
   ],
   "source": [
    "print(dictionary3)\n"
   ]
  },
  {
   "cell_type": "code",
   "execution_count": null,
   "metadata": {},
   "outputs": [],
   "source": []
  }
 ],
 "metadata": {
  "kernelspec": {
   "display_name": "Python 3",
   "language": "python",
   "name": "python3"
  },
  "language_info": {
   "codemirror_mode": {
    "name": "ipython",
    "version": 3
   },
   "file_extension": ".py",
   "mimetype": "text/x-python",
   "name": "python",
   "nbconvert_exporter": "python",
   "pygments_lexer": "ipython3",
   "version": "3.9.13"
  },
  "orig_nbformat": 4
 },
 "nbformat": 4,
 "nbformat_minor": 2
}

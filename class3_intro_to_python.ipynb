{
 "cells": [
  {
   "cell_type": "code",
   "execution_count": 5,
   "metadata": {},
   "outputs": [
    {
     "data": {
      "text/plain": [
       "(1, 1, 0, 0.0)"
      ]
     },
     "execution_count": 5,
     "metadata": {},
     "output_type": "execute_result"
    }
   ],
   "source": []
  },
  {
   "cell_type": "code",
   "execution_count": 53,
   "metadata": {},
   "outputs": [
    {
     "data": {
      "text/plain": [
       "(10, 6, 16, 4.0)"
      ]
     },
     "execution_count": 53,
     "metadata": {},
     "output_type": "execute_result"
    }
   ],
   "source": [
    "# refresh custom functions\n",
    "\n",
    "def interactions(a, b):\n",
    "    add = a + b\n",
    "    sub = a - b\n",
    "    prod = a * b\n",
    "    div = a / b\n",
    "\n",
    "    return add, abs(sub), prod, div\n",
    "\n",
    "interactions(8,2)"
   ]
  },
  {
   "cell_type": "code",
   "execution_count": 57,
   "metadata": {},
   "outputs": [
    {
     "data": {
      "text/plain": [
       "(9, 7, 8, 8.0)"
      ]
     },
     "execution_count": 57,
     "metadata": {},
     "output_type": "execute_result"
    }
   ],
   "source": [
    "# create a func with default value\n",
    "\n",
    "def interactions(a=0, b=1):\n",
    "    add = a + b\n",
    "    sub = a - b\n",
    "    prod = a * b\n",
    "    div = a / b\n",
    "\n",
    "    return add, abs(sub), prod, div\n",
    "\n",
    "interactions()\n",
    "interactions(4,2)\n",
    "interactions(8)"
   ]
  },
  {
   "cell_type": "code",
   "execution_count": 58,
   "metadata": {},
   "outputs": [
    {
     "data": {
      "text/plain": [
       "(12, 8, 20, 5.0)"
      ]
     },
     "execution_count": 58,
     "metadata": {},
     "output_type": "execute_result"
    }
   ],
   "source": [
    "interactions(10,2)"
   ]
  },
  {
   "cell_type": "code",
   "execution_count": 59,
   "metadata": {},
   "outputs": [
    {
     "data": {
      "text/plain": [
       "(7, 5, 6, 6.0)"
      ]
     },
     "execution_count": 59,
     "metadata": {},
     "output_type": "execute_result"
    }
   ],
   "source": [
    "interactions(6)"
   ]
  },
  {
   "cell_type": "code",
   "execution_count": 60,
   "metadata": {},
   "outputs": [
    {
     "data": {
      "text/plain": [
       "(1, 1, 0, 0.0)"
      ]
     },
     "execution_count": 60,
     "metadata": {},
     "output_type": "execute_result"
    }
   ],
   "source": [
    "interactions()"
   ]
  },
  {
   "cell_type": "code",
   "execution_count": 9,
   "metadata": {},
   "outputs": [],
   "source": [
    "def coordinates(point1 = (0,0), point2 = (0,0), point3 = (0,0), point4 = (0,0), newpoint = (0,0)):\n",
    "    if type(newpoint) != tuple:\n",
    "        return 'error'\n",
    "    if newpoint[0] in range(point1[0], point2[0]):\n",
    "        return True\n",
    "    else:\n",
    "        return False"
   ]
  },
  {
   "cell_type": "code",
   "execution_count": 10,
   "metadata": {},
   "outputs": [
    {
     "data": {
      "text/plain": [
       "'error'"
      ]
     },
     "execution_count": 10,
     "metadata": {},
     "output_type": "execute_result"
    }
   ],
   "source": [
    "coordinates([1,1],(4,4),(5,6),(7,8),[2,3])"
   ]
  },
  {
   "cell_type": "code",
   "execution_count": 11,
   "metadata": {},
   "outputs": [
    {
     "data": {
      "text/plain": [
       "list"
      ]
     },
     "execution_count": 11,
     "metadata": {},
     "output_type": "execute_result"
    }
   ],
   "source": [
    "# introduce creating classes\n",
    "type([1,2,3,4])"
   ]
  },
  {
   "cell_type": "code",
   "execution_count": 12,
   "metadata": {},
   "outputs": [],
   "source": [
    "list1 = [9,8,9,97]"
   ]
  },
  {
   "cell_type": "code",
   "execution_count": 13,
   "metadata": {},
   "outputs": [],
   "source": [
    "tuple1 = (8,7,7,8)"
   ]
  },
  {
   "cell_type": "code",
   "execution_count": 16,
   "metadata": {},
   "outputs": [],
   "source": [
    "# declaring a new class called Students\n",
    "class Students:\n",
    "    # define the class attributes\n",
    "    def __init__(self, name, email, age, year_started, class_list):\n",
    "        self.name = str(name)\n",
    "        self.email = str(email)\n",
    "        self.age = int(age)\n",
    "        self.year_started = int(year_started)\n",
    "        self.class_list = list(class_list)\n",
    "\n",
    "    # methods\n",
    "    def years_at_school(self):\n",
    "        print(f\"{self.name} has been at the school for {2023 - self.year_started} years\")\n",
    "    \n",
    "    def first_period(self):\n",
    "        print(self.class_list[0])"
   ]
  },
  {
   "cell_type": "code",
   "execution_count": 17,
   "metadata": {},
   "outputs": [],
   "source": [
    "student1 = Students('Amy','amy@gmail.com',30,2019,['math', 'engl', 'physed'])"
   ]
  },
  {
   "cell_type": "code",
   "execution_count": 23,
   "metadata": {},
   "outputs": [
    {
     "name": "stdout",
     "output_type": "stream",
     "text": [
      "Amy has been at the school for 4 years\n",
      "math\n"
     ]
    }
   ],
   "source": [
    "student1.years_at_school()\n",
    "student1.first_period()\n"
   ]
  },
  {
   "cell_type": "code",
   "execution_count": 24,
   "metadata": {},
   "outputs": [
    {
     "data": {
      "text/plain": [
       "30"
      ]
     },
     "execution_count": 24,
     "metadata": {},
     "output_type": "execute_result"
    }
   ],
   "source": [
    "student1.age"
   ]
  },
  {
   "cell_type": "code",
   "execution_count": 25,
   "metadata": {},
   "outputs": [
    {
     "data": {
      "text/plain": [
       "['math', 'engl', 'physed']"
      ]
     },
     "execution_count": 25,
     "metadata": {},
     "output_type": "execute_result"
    }
   ],
   "source": [
    "student1.class_list"
   ]
  },
  {
   "cell_type": "code",
   "execution_count": 26,
   "metadata": {},
   "outputs": [],
   "source": [
    "class Client:\n",
    "    def __init__(self, name, email, phone):\n",
    "        self.name = name\n",
    "        self.email = email\n",
    "        self.phone = phone\n",
    "    \n",
    "    \n",
    "    def print_contact_info(self):\n",
    "        print(self.email, self.name, self.phone)\n",
    "\n",
    "    @classmethod\n",
    "    def input(cls):\n",
    "        return cls( input('name: '), (input('email: ')),(input('phone: ')))"
   ]
  },
  {
   "cell_type": "code",
   "execution_count": 64,
   "metadata": {},
   "outputs": [
    {
     "name": "stdout",
     "output_type": "stream",
     "text": [
      "nata@email.com Nata 4162629730\n"
     ]
    },
    {
     "data": {
      "text/plain": [
       "'Nata'"
      ]
     },
     "execution_count": 64,
     "metadata": {},
     "output_type": "execute_result"
    }
   ],
   "source": [
    "clienttest1 = Client(\"Nata\", \"nata@email.com\", \"4162629730\")\n",
    "\n",
    "\n",
    "clienttest1.print_contact_info()\n",
    "clienttest1.name"
   ]
  },
  {
   "cell_type": "code",
   "execution_count": 69,
   "metadata": {},
   "outputs": [],
   "source": [
    "class Client:\n",
    "    count = 0 # class attribute\n",
    "\n",
    "# create instances of a class\n",
    "    def __init__(self, name, email, phone):\n",
    "        \n",
    "        Client.count +=1\n",
    "        self.name = name\n",
    "        self.email = email\n",
    "        self.phone = phone\n",
    "   \n",
    "    # instance method\n",
    "    def print_contact_info(self):\n",
    "        print(self.email, self.name, self.phone)\n",
    "    \n",
    "    @classmethod\n",
    "    def num_clients(cls):\n",
    "        return cls.count\n",
    "    \n",
    "    @classmethod\n",
    "    def new_client(cls):\n",
    "        name = input('name:')\n",
    "        email = input('email: ')\n",
    "        phone = input('email: ')\n",
    "        return cls(name, email, phone)"
   ]
  },
  {
   "cell_type": "code",
   "execution_count": 71,
   "metadata": {},
   "outputs": [],
   "source": [
    "# define new client using class method\"\n",
    "client1 = Client.new_client() "
   ]
  },
  {
   "cell_type": "code",
   "execution_count": 72,
   "metadata": {},
   "outputs": [
    {
     "name": "stdout",
     "output_type": "stream",
     "text": [
      "liuda@lubny.com Liua email-liuda@lubny.org\n"
     ]
    }
   ],
   "source": [
    "client1.print_contact_info()"
   ]
  },
  {
   "cell_type": "code",
   "execution_count": 73,
   "metadata": {},
   "outputs": [
    {
     "data": {
      "text/plain": [
       "1"
      ]
     },
     "execution_count": 73,
     "metadata": {},
     "output_type": "execute_result"
    }
   ],
   "source": [
    "# use class method to find the total number of clients / instances in the class\n",
    "Client.num_clients()"
   ]
  },
  {
   "cell_type": "code",
   "execution_count": 48,
   "metadata": {},
   "outputs": [
    {
     "ename": "NameError",
     "evalue": "name 'client1' is not defined",
     "output_type": "error",
     "traceback": [
      "\u001b[1;31m---------------------------------------------------------------------------\u001b[0m",
      "\u001b[1;31mNameError\u001b[0m                                 Traceback (most recent call last)",
      "Cell \u001b[1;32mIn[48], line 2\u001b[0m\n\u001b[0;32m      1\u001b[0m \u001b[39m# use instance method to return a specific client attribute\u001b[39;00m\n\u001b[1;32m----> 2\u001b[0m client1\u001b[39m.\u001b[39mname\n",
      "\u001b[1;31mNameError\u001b[0m: name 'client1' is not defined"
     ]
    }
   ],
   "source": [
    "# use instance method to return a specific client attribute\n",
    "client1.name"
   ]
  },
  {
   "cell_type": "code",
   "execution_count": 33,
   "metadata": {},
   "outputs": [],
   "source": [
    "# open files and introduce pandas\n",
    "\n",
    "file = open('/Users/Nata/Downloads/datafile.csv')\n"
   ]
  },
  {
   "cell_type": "code",
   "execution_count": 65,
   "metadata": {},
   "outputs": [],
   "source": [
    "import pandas as pd"
   ]
  },
  {
   "cell_type": "code",
   "execution_count": 37,
   "metadata": {},
   "outputs": [],
   "source": [
    "file = open('/Users/Nata/Downloads/datafile.csv', 'r+')"
   ]
  },
  {
   "cell_type": "code",
   "execution_count": 38,
   "metadata": {},
   "outputs": [
    {
     "name": "stdout",
     "output_type": "stream",
     "text": [
      "Name,Phone Number,Email,Product,Representative\n",
      "Sarah,123-4567,sarah@email.com,Software,\n",
      "Matt,345-5467,matt@email.com,Hardware,\n",
      "Joe,345-6333,joe@email.com,Software,\n",
      "Michaela,876-8765,michaela@email.com,Hardware,\n"
     ]
    }
   ],
   "source": [
    "print(file.read())"
   ]
  },
  {
   "cell_type": "code",
   "execution_count": 39,
   "metadata": {},
   "outputs": [
    {
     "data": {
      "text/plain": [
       "38"
      ]
     },
     "execution_count": 39,
     "metadata": {},
     "output_type": "execute_result"
    }
   ],
   "source": [
    "file.write(\"\\nJohn,856-7894,john@email.com,software\")"
   ]
  },
  {
   "cell_type": "code",
   "execution_count": 40,
   "metadata": {},
   "outputs": [
    {
     "name": "stdout",
     "output_type": "stream",
     "text": [
      "\n"
     ]
    }
   ],
   "source": [
    "print(file.read())"
   ]
  },
  {
   "cell_type": "code",
   "execution_count": 41,
   "metadata": {},
   "outputs": [],
   "source": [
    "file.close()\n"
   ]
  },
  {
   "cell_type": "code",
   "execution_count": 68,
   "metadata": {},
   "outputs": [],
   "source": [
    "file = open('/Users/Nata/Downloads/datafile.csv', 'r+')"
   ]
  },
  {
   "cell_type": "code",
   "execution_count": 67,
   "metadata": {},
   "outputs": [
    {
     "name": "stdout",
     "output_type": "stream",
     "text": [
      "\n"
     ]
    }
   ],
   "source": [
    "print(file.read())"
   ]
  },
  {
   "cell_type": "code",
   "execution_count": 10,
   "metadata": {},
   "outputs": [],
   "source": [
    "import csv\n",
    "data1 = []\n",
    "\n",
    "with open('/Users/Nata/Downloads/datafile.csv','r+') as csvfile:\n",
    "    read = csv.DictReader(csvfile)\n",
    "    for row in read:\n",
    "        data1.append(row)"
   ]
  },
  {
   "cell_type": "code",
   "execution_count": 13,
   "metadata": {},
   "outputs": [
    {
     "data": {
      "text/plain": [
       "[{'Name': 'Sarah',\n",
       "  'Phone Number': '123-4567',\n",
       "  'Email': 'sarah@email.com',\n",
       "  'Product': 'Software',\n",
       "  'Representative': ''},\n",
       " {'Name': 'Matt',\n",
       "  'Phone Number': '345-5467',\n",
       "  'Email': 'matt@email.com',\n",
       "  'Product': 'Hardware',\n",
       "  'Representative': ''},\n",
       " {'Name': 'Joe',\n",
       "  'Phone Number': '345-6333',\n",
       "  'Email': 'joe@email.com',\n",
       "  'Product': 'Software',\n",
       "  'Representative': ''},\n",
       " {'Name': 'Michaela',\n",
       "  'Phone Number': '876-8765',\n",
       "  'Email': 'michaela@email.com',\n",
       "  'Product': 'Hardware',\n",
       "  'Representative': ''},\n",
       " {'Name': 'John',\n",
       "  'Phone Number': '856-7894',\n",
       "  'Email': 'john@emial.com',\n",
       "  'Product': 'software',\n",
       "  'Representative': None}]"
      ]
     },
     "execution_count": 13,
     "metadata": {},
     "output_type": "execute_result"
    }
   ],
   "source": [
    "data1"
   ]
  },
  {
   "cell_type": "code",
   "execution_count": 42,
   "metadata": {},
   "outputs": [
    {
     "data": {
      "text/plain": [
       "{'Name': 'Sarah',\n",
       " 'Phone Number': '123-4567',\n",
       " 'Email': 'sarah@email.com',\n",
       " 'Product': 'Software',\n",
       " 'Representative': ''}"
      ]
     },
     "execution_count": 42,
     "metadata": {},
     "output_type": "execute_result"
    }
   ],
   "source": [
    "data1[0]"
   ]
  },
  {
   "cell_type": "code",
   "execution_count": 51,
   "metadata": {},
   "outputs": [
    {
     "name": "stdout",
     "output_type": "stream",
     "text": [
      "['Sarah', '123-4567', 'sarah@email.com', 'Software', '', 'Matt', '345-5467', 'matt@email.com', 'Hardware', '', 'Joe', '345-6333', 'joe@email.com', 'Software', '', 'Michaela', '876-8765', 'michaela@email.com', 'Hardware', '', 'John', '856-7894', 'john@emial.com', 'software', None]\n"
     ]
    }
   ],
   "source": [
    "# my homework notes and drafts and thinking\n",
    "\n",
    "employee_from_csv_file = []\n",
    "\n",
    "for i in data1:\n",
    "    for a,b in i.items():\n",
    "        employee_from_csv_file.append(b)\n",
    "\n",
    "print(employee_from_csv_file)"
   ]
  },
  {
   "cell_type": "code",
   "execution_count": 44,
   "metadata": {},
   "outputs": [],
   "source": [
    " \n"
   ]
  },
  {
   "cell_type": "code",
   "execution_count": 52,
   "metadata": {},
   "outputs": [
    {
     "data": {
      "text/plain": [
       "{'Name': 'Sarah',\n",
       " 'Phone Number': '123-4567',\n",
       " 'Email': 'sarah@email.com',\n",
       " 'Product': 'Software',\n",
       " 'Representative': ''}"
      ]
     },
     "execution_count": 52,
     "metadata": {},
     "output_type": "execute_result"
    }
   ],
   "source": [
    "item_number()"
   ]
  },
  {
   "cell_type": "code",
   "execution_count": 49,
   "metadata": {},
   "outputs": [
    {
     "name": "stdout",
     "output_type": "stream",
     "text": [
      "\n"
     ]
    }
   ],
   "source": [
    "print(file.read())"
   ]
  },
  {
   "cell_type": "code",
   "execution_count": 1,
   "metadata": {},
   "outputs": [],
   "source": [
    "def data_organizer(x):\n",
    "    global customer_names\n",
    "    global phone_numbers\n",
    "    global emails\n",
    "    global products\n",
    "\n",
    "    customer_names.append(x['Name'])\n",
    "    phone_numbers.append(x['Phone Number'])\n",
    "    emails.append(x['Email'])\n",
    "    products.append(x['Product'])\n",
    "    "
   ]
  },
  {
   "cell_type": "code",
   "execution_count": 52,
   "metadata": {},
   "outputs": [
    {
     "name": "stdout",
     "output_type": "stream",
     "text": [
      "^C\n",
      "Note: you may need to restart the kernel to use updated packages.\n"
     ]
    },
    {
     "name": "stdout",
     "output_type": "stream",
     "text": [
      "Collecting pandas\n",
      "  Downloading pandas-2.0.1-cp39-cp39-win_amd64.whl (10.7 MB)\n",
      "     ---------------------------------------- 10.7/10.7 MB 8.6 MB/s eta 0:00:00\n",
      "Collecting tzdata>=2022.1\n",
      "  Downloading tzdata-2023.3-py2.py3-none-any.whl (341 kB)\n",
      "     -------------------------------------- 341.8/341.8 KB 5.3 MB/s eta 0:00:00\n",
      "Requirement already satisfied: python-dateutil>=2.8.2 in c:\\users\\nata\\appdata\\roaming\\python\\python39\\site-packages (from pandas) (2.8.2)\n",
      "Collecting pytz>=2020.1\n",
      "  Downloading pytz-2023.3-py2.py3-none-any.whl (502 kB)\n",
      "     -------------------------------------- 502.3/502.3 KB 2.6 MB/s eta 0:00:00\n",
      "Collecting numpy>=1.20.3\n",
      "  Downloading numpy-1.24.3-cp39-cp39-win_amd64.whl (14.9 MB)\n",
      "     ---------------------------------------- 14.9/14.9 MB 2.0 MB/s eta 0:00:00\n",
      "Requirement already satisfied: six>=1.5 in c:\\users\\nata\\appdata\\roaming\\python\\python39\\site-packages (from python-dateutil>=2.8.2->pandas) (1.16.0)\n",
      "Installing collected packages: pytz, tzdata, numpy, pandas\n",
      "Successfully installed numpy-1.24.3 pandas-2.0.1 pytz-2023.3 tzdata-2023.3\n"
     ]
    },
    {
     "name": "stderr",
     "output_type": "stream",
     "text": [
      "WARNING: You are using pip version 22.0.4; however, version 23.1.2 is available.\n",
      "You should consider upgrading via the 'c:\\Users\\Nata\\AppData\\Local\\Programs\\Python\\Python39\\python.exe -m pip install --upgrade pip' command.\n"
     ]
    }
   ],
   "source": [
    "# pip install pandas"
   ]
  }
 ],
 "metadata": {
  "kernelspec": {
   "display_name": "Python 3",
   "language": "python",
   "name": "python3"
  },
  "language_info": {
   "codemirror_mode": {
    "name": "ipython",
    "version": 3
   },
   "file_extension": ".py",
   "mimetype": "text/x-python",
   "name": "python",
   "nbconvert_exporter": "python",
   "pygments_lexer": "ipython3",
   "version": "3.9.13"
  },
  "orig_nbformat": 4
 },
 "nbformat": 4,
 "nbformat_minor": 2
}

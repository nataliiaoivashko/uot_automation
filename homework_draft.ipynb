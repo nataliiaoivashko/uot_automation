{
 "cells": [
  {
   "cell_type": "code",
   "execution_count": 18,
   "metadata": {},
   "outputs": [],
   "source": [
    "import csv\n",
    "newhires_raw_data = []\n",
    "\n",
    "with open('/Users/Nata/Downloads/newhires.csv','r+') as csvfile:\n",
    "    read = csv.DictReader(csvfile)\n",
    "    for row in read:\n",
    "        newhires_raw_data.append(row)"
   ]
  },
  {
   "cell_type": "code",
   "execution_count": 184,
   "metadata": {},
   "outputs": [
    {
     "data": {
      "text/plain": [
       "[{'ï»¿Year Onboarded': '2023',\n",
       "  'Name': 'John',\n",
       "  'Department': 'Marketing',\n",
       "  'Manager': 'Stephanie',\n",
       "  'Current Salary': '50000'},\n",
       " {'ï»¿Year Onboarded': '2023',\n",
       "  'Name': 'Amy',\n",
       "  'Department': 'Marketing',\n",
       "  'Manager': 'Stephanie',\n",
       "  'Current Salary': '50000'},\n",
       " {'ï»¿Year Onboarded': '2023',\n",
       "  'Name': 'Sidra',\n",
       "  'Department': 'Finance',\n",
       "  'Manager': 'Roger',\n",
       "  'Current Salary': '65000'},\n",
       " {'ï»¿Year Onboarded': '2023',\n",
       "  'Name': 'Naveen',\n",
       "  'Department': 'Data',\n",
       "  'Manager': 'Matthias',\n",
       "  'Current Salary': '73000'},\n",
       " {'ï»¿Year Onboarded': '2023',\n",
       "  'Name': 'Delilah',\n",
       "  'Department': 'Technology',\n",
       "  'Manager': 'Matthias',\n",
       "  'Current Salary': '67000'}]"
      ]
     },
     "execution_count": 184,
     "metadata": {},
     "output_type": "execute_result"
    }
   ],
   "source": [
    "newhires_raw_data"
   ]
  },
  {
   "cell_type": "code",
   "execution_count": 11,
   "metadata": {},
   "outputs": [],
   "source": [
    "import csv\n",
    "software_access_raw_data = []\n",
    "\n",
    "with open('/Users/Nata/Downloads/access.csv','r+') as csvfile:\n",
    "    read = csv.DictReader(csvfile)\n",
    "    for row in read:\n",
    "        software_access_raw_data.append(row)"
   ]
  },
  {
   "cell_type": "code",
   "execution_count": 185,
   "metadata": {},
   "outputs": [
    {
     "data": {
      "text/plain": [
       "[{'ï»¿Department': 'Marketing', 'Access': 'MS Office, Salesforce'},\n",
       " {'ï»¿Department': 'Finance', 'Access': 'MS Office, Oracle'},\n",
       " {'ï»¿Department': 'Technology',\n",
       "  'Access': 'MS Office, Oracle, Salesforce, Python, AWS'},\n",
       " {'ï»¿Department': 'Data', 'Access': 'MS Office, Python, AWS'},\n",
       " {'ï»¿Department': 'Strategy', 'Access': 'MS Office'}]"
      ]
     },
     "execution_count": 185,
     "metadata": {},
     "output_type": "execute_result"
    }
   ],
   "source": [
    "software_access_raw_data"
   ]
  },
  {
   "cell_type": "code",
   "execution_count": 210,
   "metadata": {},
   "outputs": [],
   "source": [
    "# declaring a new class called Employees\n",
    "class Employees:\n",
    "\n",
    "    # defining the class attributes\n",
    "    def __init__(self, year_onboarded, name, department, manager, current_salary, assigned_software_list):\n",
    "        self.year_onboarded = year_onboarded\n",
    "        self.name = name\n",
    "        self.department = department\n",
    "        self.manager = manager\n",
    "        self.current_salary = current_salary\n",
    "        self.assigned_software_list = assigned_software_list\n",
    "       \n",
    "\n",
    "    # methods\n",
    "\n",
    "    @classmethod\n",
    "    def newhire_data(cls, newhires_raw_data):\n",
    "        newhires_table = []\n",
    "        for every_item in newhires_raw_data:\n",
    "            newhire_values = list(every_item.values())\n",
    "            newhire_created = cls(*newhire_values, assigned_software_list=[])\n",
    "            newhires_table.append(newhire_created)\n",
    "        return newhires_table\n",
    "\n",
    "\n",
    "    @classmethod\n",
    "    def assign_software_access(cls, all_employees, software_access_raw_data):\n",
    "        for every_employee in all_employees:\n",
    "            department = every_employee.department\n",
    "            for every_i in software_access_raw_data:\n",
    "                if every_i.get('ï»¿Department') == department:\n",
    "                    access = every_i.get('Access')\n",
    "                    every_employee.assigned_software_list.append(access)\n"
   ]
  },
  {
   "cell_type": "code",
   "execution_count": 214,
   "metadata": {},
   "outputs": [
    {
     "name": "stdout",
     "output_type": "stream",
     "text": [
      "2023\n",
      "John\n",
      "Marketing\n",
      "Stephanie\n",
      "50000\n",
      "[]\n",
      "~~~~~~~~~~~~~~\n",
      "2023\n",
      "Amy\n",
      "Marketing\n",
      "Stephanie\n",
      "50000\n",
      "[]\n",
      "~~~~~~~~~~~~~~\n",
      "2023\n",
      "Sidra\n",
      "Finance\n",
      "Roger\n",
      "65000\n",
      "[]\n",
      "~~~~~~~~~~~~~~\n",
      "2023\n",
      "Naveen\n",
      "Data\n",
      "Matthias\n",
      "73000\n",
      "[]\n",
      "~~~~~~~~~~~~~~\n",
      "2023\n",
      "Delilah\n",
      "Technology\n",
      "Matthias\n",
      "67000\n",
      "[]\n"
     ]
    }
   ],
   "source": [
    "all_employees = Employees.newhire_data(newhires_raw_data)\n",
    "\n",
    "# Accessing the attributes of the first employee\n",
    "print(all_employees[0].year_onboarded)\n",
    "print(all_employees[0].name)                # should be John\n",
    "print(all_employees[0].department)          # should be Marketing\n",
    "print(all_employees[0].manager)\n",
    "print(all_employees[0].current_salary)\n",
    "print(all_employees[0].assigned_software_list)\n",
    "print(\"~~~~~~~~~~~~~~\")\n",
    "print(all_employees[1].year_onboarded)\n",
    "print(all_employees[1].name)                    # should be Amy\n",
    "print(all_employees[1].department)              # should be Marketing\n",
    "print(all_employees[1].manager)\n",
    "print(all_employees[1].current_salary)\n",
    "print(all_employees[1].assigned_software_list)\n",
    "print(\"~~~~~~~~~~~~~~\")\n",
    "print(all_employees[2].year_onboarded)\n",
    "print(all_employees[2].name)                    # should be Sidra\n",
    "print(all_employees[2].department)              # should be Finance\n",
    "print(all_employees[2].manager)\n",
    "print(all_employees[2].current_salary)\n",
    "print(all_employees[2].assigned_software_list)\n",
    "print(\"~~~~~~~~~~~~~~\")\n",
    "print(all_employees[3].year_onboarded)\n",
    "print(all_employees[3].name)                    # should be Naveen\n",
    "print(all_employees[3].department)              # should be Data\n",
    "print(all_employees[3].manager)\n",
    "print(all_employees[3].current_salary)\n",
    "print(all_employees[3].assigned_software_list)\n",
    "print(\"~~~~~~~~~~~~~~\")\n",
    "print(all_employees[4].year_onboarded)\n",
    "print(all_employees[4].name)                    # should be Delilah\n",
    "print(all_employees[4].department)              # should be technology\n",
    "print(all_employees[4].manager)\n",
    "print(all_employees[4].current_salary)\n",
    "print(all_employees[4].assigned_software_list)"
   ]
  },
  {
   "cell_type": "code",
   "execution_count": 215,
   "metadata": {},
   "outputs": [
    {
     "name": "stdout",
     "output_type": "stream",
     "text": [
      "John\n",
      "Marketing\n",
      "['MS Office, Salesforce']\n",
      "~~~~~~~~~~~~~~\n",
      "Amy\n",
      "Marketing\n",
      "['MS Office, Salesforce']\n",
      "~~~~~~~~~~~~~~\n",
      "Sidra\n",
      "Finance\n",
      "['MS Office, Oracle']\n",
      "~~~~~~~~~~~~~~\n",
      "Naveen\n",
      "Data\n",
      "['MS Office, Python, AWS']\n",
      "~~~~~~~~~~~~~~\n",
      "Delilah\n",
      "Technology\n",
      "['MS Office, Oracle, Salesforce, Python, AWS']\n",
      "~~~~~~~~~~~~~~\n"
     ]
    }
   ],
   "source": [
    "all_soft_assigned = Employees.assign_software_access(all_employees, software_access_raw_data)\n",
    "\n",
    "# Accessing the attributes of the first employee\n",
    "print(all_employees[0].name)                        # John Marketing\n",
    "print(all_employees[0].department)\n",
    "print(all_employees[0].assigned_software_list)      # MS Office, Salesforce\n",
    "print(\"~~~~~~~~~~~~~~\")\n",
    "print(all_employees[1].name)                        # Amy Marketing\n",
    "print(all_employees[1].department)\n",
    "print(all_employees[1].assigned_software_list)      # same as John\n",
    "print(\"~~~~~~~~~~~~~~\")\n",
    "print(all_employees[2].name)                        # Sidra Finance \n",
    "print(all_employees[2].department)\n",
    "print(all_employees[2].assigned_software_list)      # MS Office, Oracle\n",
    "print(\"~~~~~~~~~~~~~~\")\n",
    "print(all_employees[3].name)                        # Naveen Data \n",
    "print(all_employees[3].department)\n",
    "print(all_employees[3].assigned_software_list)      # MS Office, Python, AWS\n",
    "print(\"~~~~~~~~~~~~~~\")\n",
    "print(all_employees[4].name)                        # Delilah Technology\n",
    "print(all_employees[4].department)\n",
    "print(all_employees[4].assigned_software_list)      # MS Office, Oracle, Salesforce, Python, AWS\n",
    "print(\"~~~~~~~~~~~~~~\")"
   ]
  }
 ],
 "metadata": {
  "kernelspec": {
   "display_name": "Python 3",
   "language": "python",
   "name": "python3"
  },
  "language_info": {
   "codemirror_mode": {
    "name": "ipython",
    "version": 3
   },
   "file_extension": ".py",
   "mimetype": "text/x-python",
   "name": "python",
   "nbconvert_exporter": "python",
   "pygments_lexer": "ipython3",
   "version": "3.9.13"
  },
  "orig_nbformat": 4
 },
 "nbformat": 4,
 "nbformat_minor": 2
}
